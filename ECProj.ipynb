{
 "cells": [
  {
   "cell_type": "markdown",
   "metadata": {},
   "source": [
    "# Imports"
   ]
  },
  {
   "cell_type": "code",
   "execution_count": 1,
   "metadata": {},
   "outputs": [],
   "source": [
    "import pandas as pd\n",
    "from sklearn.model_selection import train_test_split, GridSearchCV\n",
    "from sklearn.feature_selection import SelectFromModel\n",
    "from sklearn.ensemble import RandomForestRegressor\n",
    "from sklearn.impute import KNNImputer\n",
    "from sklearn.preprocessing import StandardScaler\n",
    "import numpy as np\n",
    "from sklearn.metrics import accuracy_score, precision_score, recall_score, f1_score, matthews_corrcoef, confusion_matrix, make_scorer\n",
    "from scipy.stats import pearsonr\n",
    "from sklearn.ensemble import RandomForestClassifier\n",
    "from matplotlib import pyplot as plt"
   ]
  },
  {
   "cell_type": "markdown",
   "metadata": {},
   "source": [
    "# Data treatment"
   ]
  },
  {
   "cell_type": "code",
   "execution_count": 3,
   "metadata": {},
   "outputs": [
    {
     "ename": "FileNotFoundError",
     "evalue": "[Errno 2] No such file or directory: './Projeto/proj-data.csv'",
     "output_type": "error",
     "traceback": [
      "\u001b[1;31m---------------------------------------------------------------------------\u001b[0m",
      "\u001b[1;31mFileNotFoundError\u001b[0m                         Traceback (most recent call last)",
      "Cell \u001b[1;32mIn[3], line 2\u001b[0m\n\u001b[0;32m      1\u001b[0m data_url \u001b[38;5;241m=\u001b[39m \u001b[38;5;124m'\u001b[39m\u001b[38;5;124m./Projeto/proj-data.csv\u001b[39m\u001b[38;5;124m'\u001b[39m\n\u001b[1;32m----> 2\u001b[0m data \u001b[38;5;241m=\u001b[39m \u001b[43mpd\u001b[49m\u001b[38;5;241;43m.\u001b[39;49m\u001b[43mread_csv\u001b[49m\u001b[43m(\u001b[49m\u001b[43mdata_url\u001b[49m\u001b[43m,\u001b[49m\u001b[43msep\u001b[49m\u001b[38;5;241;43m=\u001b[39;49m\u001b[38;5;124;43m'\u001b[39;49m\u001b[38;5;124;43m,\u001b[39;49m\u001b[38;5;124;43m'\u001b[39;49m\u001b[43m,\u001b[49m\u001b[43mheader\u001b[49m\u001b[38;5;241;43m=\u001b[39;49m\u001b[38;5;241;43m0\u001b[39;49m\u001b[43m)\u001b[49m\n\u001b[0;32m      4\u001b[0m hyperthyroid_conditions \u001b[38;5;241m=\u001b[39m [\u001b[38;5;124m'\u001b[39m\u001b[38;5;124mA\u001b[39m\u001b[38;5;124m'\u001b[39m, \u001b[38;5;124m'\u001b[39m\u001b[38;5;124mB\u001b[39m\u001b[38;5;124m'\u001b[39m, \u001b[38;5;124m'\u001b[39m\u001b[38;5;124mC\u001b[39m\u001b[38;5;124m'\u001b[39m, \u001b[38;5;124m'\u001b[39m\u001b[38;5;124mD\u001b[39m\u001b[38;5;124m'\u001b[39m]\n\u001b[0;32m      5\u001b[0m hypothyroid_conditions \u001b[38;5;241m=\u001b[39m [\u001b[38;5;124m'\u001b[39m\u001b[38;5;124mE\u001b[39m\u001b[38;5;124m'\u001b[39m, \u001b[38;5;124m'\u001b[39m\u001b[38;5;124mF\u001b[39m\u001b[38;5;124m'\u001b[39m, \u001b[38;5;124m'\u001b[39m\u001b[38;5;124mG\u001b[39m\u001b[38;5;124m'\u001b[39m, \u001b[38;5;124m'\u001b[39m\u001b[38;5;124mH\u001b[39m\u001b[38;5;124m'\u001b[39m]\n",
      "File \u001b[1;32mC:\\tools\\Anaconda3\\lib\\site-packages\\pandas\\io\\parsers\\readers.py:912\u001b[0m, in \u001b[0;36mread_csv\u001b[1;34m(filepath_or_buffer, sep, delimiter, header, names, index_col, usecols, dtype, engine, converters, true_values, false_values, skipinitialspace, skiprows, skipfooter, nrows, na_values, keep_default_na, na_filter, verbose, skip_blank_lines, parse_dates, infer_datetime_format, keep_date_col, date_parser, date_format, dayfirst, cache_dates, iterator, chunksize, compression, thousands, decimal, lineterminator, quotechar, quoting, doublequote, escapechar, comment, encoding, encoding_errors, dialect, on_bad_lines, delim_whitespace, low_memory, memory_map, float_precision, storage_options, dtype_backend)\u001b[0m\n\u001b[0;32m    899\u001b[0m kwds_defaults \u001b[38;5;241m=\u001b[39m _refine_defaults_read(\n\u001b[0;32m    900\u001b[0m     dialect,\n\u001b[0;32m    901\u001b[0m     delimiter,\n\u001b[1;32m   (...)\u001b[0m\n\u001b[0;32m    908\u001b[0m     dtype_backend\u001b[38;5;241m=\u001b[39mdtype_backend,\n\u001b[0;32m    909\u001b[0m )\n\u001b[0;32m    910\u001b[0m kwds\u001b[38;5;241m.\u001b[39mupdate(kwds_defaults)\n\u001b[1;32m--> 912\u001b[0m \u001b[38;5;28;01mreturn\u001b[39;00m \u001b[43m_read\u001b[49m\u001b[43m(\u001b[49m\u001b[43mfilepath_or_buffer\u001b[49m\u001b[43m,\u001b[49m\u001b[43m \u001b[49m\u001b[43mkwds\u001b[49m\u001b[43m)\u001b[49m\n",
      "File \u001b[1;32mC:\\tools\\Anaconda3\\lib\\site-packages\\pandas\\io\\parsers\\readers.py:577\u001b[0m, in \u001b[0;36m_read\u001b[1;34m(filepath_or_buffer, kwds)\u001b[0m\n\u001b[0;32m    574\u001b[0m _validate_names(kwds\u001b[38;5;241m.\u001b[39mget(\u001b[38;5;124m\"\u001b[39m\u001b[38;5;124mnames\u001b[39m\u001b[38;5;124m\"\u001b[39m, \u001b[38;5;28;01mNone\u001b[39;00m))\n\u001b[0;32m    576\u001b[0m \u001b[38;5;66;03m# Create the parser.\u001b[39;00m\n\u001b[1;32m--> 577\u001b[0m parser \u001b[38;5;241m=\u001b[39m TextFileReader(filepath_or_buffer, \u001b[38;5;241m*\u001b[39m\u001b[38;5;241m*\u001b[39mkwds)\n\u001b[0;32m    579\u001b[0m \u001b[38;5;28;01mif\u001b[39;00m chunksize \u001b[38;5;129;01mor\u001b[39;00m iterator:\n\u001b[0;32m    580\u001b[0m     \u001b[38;5;28;01mreturn\u001b[39;00m parser\n",
      "File \u001b[1;32mC:\\tools\\Anaconda3\\lib\\site-packages\\pandas\\io\\parsers\\readers.py:1407\u001b[0m, in \u001b[0;36mTextFileReader.__init__\u001b[1;34m(self, f, engine, **kwds)\u001b[0m\n\u001b[0;32m   1404\u001b[0m     \u001b[38;5;28mself\u001b[39m\u001b[38;5;241m.\u001b[39moptions[\u001b[38;5;124m\"\u001b[39m\u001b[38;5;124mhas_index_names\u001b[39m\u001b[38;5;124m\"\u001b[39m] \u001b[38;5;241m=\u001b[39m kwds[\u001b[38;5;124m\"\u001b[39m\u001b[38;5;124mhas_index_names\u001b[39m\u001b[38;5;124m\"\u001b[39m]\n\u001b[0;32m   1406\u001b[0m \u001b[38;5;28mself\u001b[39m\u001b[38;5;241m.\u001b[39mhandles: IOHandles \u001b[38;5;241m|\u001b[39m \u001b[38;5;28;01mNone\u001b[39;00m \u001b[38;5;241m=\u001b[39m \u001b[38;5;28;01mNone\u001b[39;00m\n\u001b[1;32m-> 1407\u001b[0m \u001b[38;5;28mself\u001b[39m\u001b[38;5;241m.\u001b[39m_engine \u001b[38;5;241m=\u001b[39m \u001b[38;5;28;43mself\u001b[39;49m\u001b[38;5;241;43m.\u001b[39;49m\u001b[43m_make_engine\u001b[49m\u001b[43m(\u001b[49m\u001b[43mf\u001b[49m\u001b[43m,\u001b[49m\u001b[43m \u001b[49m\u001b[38;5;28;43mself\u001b[39;49m\u001b[38;5;241;43m.\u001b[39;49m\u001b[43mengine\u001b[49m\u001b[43m)\u001b[49m\n",
      "File \u001b[1;32mC:\\tools\\Anaconda3\\lib\\site-packages\\pandas\\io\\parsers\\readers.py:1661\u001b[0m, in \u001b[0;36mTextFileReader._make_engine\u001b[1;34m(self, f, engine)\u001b[0m\n\u001b[0;32m   1659\u001b[0m     \u001b[38;5;28;01mif\u001b[39;00m \u001b[38;5;124m\"\u001b[39m\u001b[38;5;124mb\u001b[39m\u001b[38;5;124m\"\u001b[39m \u001b[38;5;129;01mnot\u001b[39;00m \u001b[38;5;129;01min\u001b[39;00m mode:\n\u001b[0;32m   1660\u001b[0m         mode \u001b[38;5;241m+\u001b[39m\u001b[38;5;241m=\u001b[39m \u001b[38;5;124m\"\u001b[39m\u001b[38;5;124mb\u001b[39m\u001b[38;5;124m\"\u001b[39m\n\u001b[1;32m-> 1661\u001b[0m \u001b[38;5;28mself\u001b[39m\u001b[38;5;241m.\u001b[39mhandles \u001b[38;5;241m=\u001b[39m \u001b[43mget_handle\u001b[49m\u001b[43m(\u001b[49m\n\u001b[0;32m   1662\u001b[0m \u001b[43m    \u001b[49m\u001b[43mf\u001b[49m\u001b[43m,\u001b[49m\n\u001b[0;32m   1663\u001b[0m \u001b[43m    \u001b[49m\u001b[43mmode\u001b[49m\u001b[43m,\u001b[49m\n\u001b[0;32m   1664\u001b[0m \u001b[43m    \u001b[49m\u001b[43mencoding\u001b[49m\u001b[38;5;241;43m=\u001b[39;49m\u001b[38;5;28;43mself\u001b[39;49m\u001b[38;5;241;43m.\u001b[39;49m\u001b[43moptions\u001b[49m\u001b[38;5;241;43m.\u001b[39;49m\u001b[43mget\u001b[49m\u001b[43m(\u001b[49m\u001b[38;5;124;43m\"\u001b[39;49m\u001b[38;5;124;43mencoding\u001b[39;49m\u001b[38;5;124;43m\"\u001b[39;49m\u001b[43m,\u001b[49m\u001b[43m \u001b[49m\u001b[38;5;28;43;01mNone\u001b[39;49;00m\u001b[43m)\u001b[49m\u001b[43m,\u001b[49m\n\u001b[0;32m   1665\u001b[0m \u001b[43m    \u001b[49m\u001b[43mcompression\u001b[49m\u001b[38;5;241;43m=\u001b[39;49m\u001b[38;5;28;43mself\u001b[39;49m\u001b[38;5;241;43m.\u001b[39;49m\u001b[43moptions\u001b[49m\u001b[38;5;241;43m.\u001b[39;49m\u001b[43mget\u001b[49m\u001b[43m(\u001b[49m\u001b[38;5;124;43m\"\u001b[39;49m\u001b[38;5;124;43mcompression\u001b[39;49m\u001b[38;5;124;43m\"\u001b[39;49m\u001b[43m,\u001b[49m\u001b[43m \u001b[49m\u001b[38;5;28;43;01mNone\u001b[39;49;00m\u001b[43m)\u001b[49m\u001b[43m,\u001b[49m\n\u001b[0;32m   1666\u001b[0m \u001b[43m    \u001b[49m\u001b[43mmemory_map\u001b[49m\u001b[38;5;241;43m=\u001b[39;49m\u001b[38;5;28;43mself\u001b[39;49m\u001b[38;5;241;43m.\u001b[39;49m\u001b[43moptions\u001b[49m\u001b[38;5;241;43m.\u001b[39;49m\u001b[43mget\u001b[49m\u001b[43m(\u001b[49m\u001b[38;5;124;43m\"\u001b[39;49m\u001b[38;5;124;43mmemory_map\u001b[39;49m\u001b[38;5;124;43m\"\u001b[39;49m\u001b[43m,\u001b[49m\u001b[43m \u001b[49m\u001b[38;5;28;43;01mFalse\u001b[39;49;00m\u001b[43m)\u001b[49m\u001b[43m,\u001b[49m\n\u001b[0;32m   1667\u001b[0m \u001b[43m    \u001b[49m\u001b[43mis_text\u001b[49m\u001b[38;5;241;43m=\u001b[39;49m\u001b[43mis_text\u001b[49m\u001b[43m,\u001b[49m\n\u001b[0;32m   1668\u001b[0m \u001b[43m    \u001b[49m\u001b[43merrors\u001b[49m\u001b[38;5;241;43m=\u001b[39;49m\u001b[38;5;28;43mself\u001b[39;49m\u001b[38;5;241;43m.\u001b[39;49m\u001b[43moptions\u001b[49m\u001b[38;5;241;43m.\u001b[39;49m\u001b[43mget\u001b[49m\u001b[43m(\u001b[49m\u001b[38;5;124;43m\"\u001b[39;49m\u001b[38;5;124;43mencoding_errors\u001b[39;49m\u001b[38;5;124;43m\"\u001b[39;49m\u001b[43m,\u001b[49m\u001b[43m \u001b[49m\u001b[38;5;124;43m\"\u001b[39;49m\u001b[38;5;124;43mstrict\u001b[39;49m\u001b[38;5;124;43m\"\u001b[39;49m\u001b[43m)\u001b[49m\u001b[43m,\u001b[49m\n\u001b[0;32m   1669\u001b[0m \u001b[43m    \u001b[49m\u001b[43mstorage_options\u001b[49m\u001b[38;5;241;43m=\u001b[39;49m\u001b[38;5;28;43mself\u001b[39;49m\u001b[38;5;241;43m.\u001b[39;49m\u001b[43moptions\u001b[49m\u001b[38;5;241;43m.\u001b[39;49m\u001b[43mget\u001b[49m\u001b[43m(\u001b[49m\u001b[38;5;124;43m\"\u001b[39;49m\u001b[38;5;124;43mstorage_options\u001b[39;49m\u001b[38;5;124;43m\"\u001b[39;49m\u001b[43m,\u001b[49m\u001b[43m \u001b[49m\u001b[38;5;28;43;01mNone\u001b[39;49;00m\u001b[43m)\u001b[49m\u001b[43m,\u001b[49m\n\u001b[0;32m   1670\u001b[0m \u001b[43m\u001b[49m\u001b[43m)\u001b[49m\n\u001b[0;32m   1671\u001b[0m \u001b[38;5;28;01massert\u001b[39;00m \u001b[38;5;28mself\u001b[39m\u001b[38;5;241m.\u001b[39mhandles \u001b[38;5;129;01mis\u001b[39;00m \u001b[38;5;129;01mnot\u001b[39;00m \u001b[38;5;28;01mNone\u001b[39;00m\n\u001b[0;32m   1672\u001b[0m f \u001b[38;5;241m=\u001b[39m \u001b[38;5;28mself\u001b[39m\u001b[38;5;241m.\u001b[39mhandles\u001b[38;5;241m.\u001b[39mhandle\n",
      "File \u001b[1;32mC:\\tools\\Anaconda3\\lib\\site-packages\\pandas\\io\\common.py:859\u001b[0m, in \u001b[0;36mget_handle\u001b[1;34m(path_or_buf, mode, encoding, compression, memory_map, is_text, errors, storage_options)\u001b[0m\n\u001b[0;32m    854\u001b[0m \u001b[38;5;28;01melif\u001b[39;00m \u001b[38;5;28misinstance\u001b[39m(handle, \u001b[38;5;28mstr\u001b[39m):\n\u001b[0;32m    855\u001b[0m     \u001b[38;5;66;03m# Check whether the filename is to be opened in binary mode.\u001b[39;00m\n\u001b[0;32m    856\u001b[0m     \u001b[38;5;66;03m# Binary mode does not support 'encoding' and 'newline'.\u001b[39;00m\n\u001b[0;32m    857\u001b[0m     \u001b[38;5;28;01mif\u001b[39;00m ioargs\u001b[38;5;241m.\u001b[39mencoding \u001b[38;5;129;01mand\u001b[39;00m \u001b[38;5;124m\"\u001b[39m\u001b[38;5;124mb\u001b[39m\u001b[38;5;124m\"\u001b[39m \u001b[38;5;129;01mnot\u001b[39;00m \u001b[38;5;129;01min\u001b[39;00m ioargs\u001b[38;5;241m.\u001b[39mmode:\n\u001b[0;32m    858\u001b[0m         \u001b[38;5;66;03m# Encoding\u001b[39;00m\n\u001b[1;32m--> 859\u001b[0m         handle \u001b[38;5;241m=\u001b[39m \u001b[38;5;28;43mopen\u001b[39;49m\u001b[43m(\u001b[49m\n\u001b[0;32m    860\u001b[0m \u001b[43m            \u001b[49m\u001b[43mhandle\u001b[49m\u001b[43m,\u001b[49m\n\u001b[0;32m    861\u001b[0m \u001b[43m            \u001b[49m\u001b[43mioargs\u001b[49m\u001b[38;5;241;43m.\u001b[39;49m\u001b[43mmode\u001b[49m\u001b[43m,\u001b[49m\n\u001b[0;32m    862\u001b[0m \u001b[43m            \u001b[49m\u001b[43mencoding\u001b[49m\u001b[38;5;241;43m=\u001b[39;49m\u001b[43mioargs\u001b[49m\u001b[38;5;241;43m.\u001b[39;49m\u001b[43mencoding\u001b[49m\u001b[43m,\u001b[49m\n\u001b[0;32m    863\u001b[0m \u001b[43m            \u001b[49m\u001b[43merrors\u001b[49m\u001b[38;5;241;43m=\u001b[39;49m\u001b[43merrors\u001b[49m\u001b[43m,\u001b[49m\n\u001b[0;32m    864\u001b[0m \u001b[43m            \u001b[49m\u001b[43mnewline\u001b[49m\u001b[38;5;241;43m=\u001b[39;49m\u001b[38;5;124;43m\"\u001b[39;49m\u001b[38;5;124;43m\"\u001b[39;49m\u001b[43m,\u001b[49m\n\u001b[0;32m    865\u001b[0m \u001b[43m        \u001b[49m\u001b[43m)\u001b[49m\n\u001b[0;32m    866\u001b[0m     \u001b[38;5;28;01melse\u001b[39;00m:\n\u001b[0;32m    867\u001b[0m         \u001b[38;5;66;03m# Binary mode\u001b[39;00m\n\u001b[0;32m    868\u001b[0m         handle \u001b[38;5;241m=\u001b[39m \u001b[38;5;28mopen\u001b[39m(handle, ioargs\u001b[38;5;241m.\u001b[39mmode)\n",
      "\u001b[1;31mFileNotFoundError\u001b[0m: [Errno 2] No such file or directory: './Projeto/proj-data.csv'"
     ]
    }
   ],
   "source": [
    "data_url = './Projeto/proj-data.csv'\n",
    "data = pd.read_csv(data_url,sep=',',header=0)\n",
    "\n",
    "hyperthyroid_conditions = ['A', 'B', 'C', 'D']\n",
    "hypothyroid_conditions = ['E', 'F', 'G', 'H']\n",
    "binding_protein = ['I', 'J']\n",
    "general_health = ['K']\n",
    "replacement_therapy = ['L', 'M', 'N']\n",
    "discordant_results = ['R']\n",
    "\n",
    "for d in range(len(data)):\n",
    "    if data.at[d, \"diagnoses\"] in hyperthyroid_conditions :\n",
    "        data.at[d, \"diagnoses\"] = 1\n",
    "    elif data.at[d, \"diagnoses\"] in hypothyroid_conditions :\n",
    "        data.at[d, \"diagnoses\"] = 2\n",
    "    elif data.at[d, \"diagnoses\"] in binding_protein :\n",
    "        data.at[d, \"diagnoses\"] = 3\n",
    "    elif data.at[d, \"diagnoses\"] in general_health :\n",
    "        data.at[d, \"diagnoses\"] = 4\n",
    "    elif data.at[d, \"diagnoses\"] in replacement_therapy :\n",
    "        data.at[d, \"diagnoses\"] = 5\n",
    "    elif data.at[d, \"diagnoses\"] in discordant_results :\n",
    "        data.at[d, \"diagnoses\"] = 6\n",
    "    elif data.at[d, \"diagnoses\"] == \"-\" :\n",
    "        data.at[d, \"diagnoses\"] = 7 # no condition\n",
    "    else:\n",
    "        data.at[d, \"diagnoses\"] = 8 # others\n",
    "\n",
    "data.drop('T4U measured:', axis=1, inplace=True)\n",
    "data.drop('TT4 measured:', axis=1, inplace=True)\n",
    "data.drop('FTI measured:', axis=1, inplace=True)\n",
    "data.drop('TBG measured:', axis=1, inplace=True)\n",
    "data.drop('TSH measured:', axis=1, inplace=True)\n",
    "data.drop('T3 measured:', axis=1, inplace=True)\n",
    "\n",
    "data.replace('?', np.nan, inplace=True)\n",
    "data.replace('f', 0, inplace=True)\n",
    "data.replace('t', 1, inplace=True)\n",
    "\n",
    "data"
   ]
  },
  {
   "cell_type": "code",
   "execution_count": null,
   "metadata": {},
   "outputs": [],
   "source": [
    "#identify columns with empty values\n",
    "result = {}\n",
    "\n",
    "for j in data.values:\n",
    "  count=0\n",
    "  for s in j:\n",
    "    if pd.isna(s):\n",
    "      if data.columns[count] not in result:\n",
    "        result[data.columns[count]] = 1\n",
    "      else:\n",
    "        result[data.columns[count]] += 1\n",
    "    count+=1\n",
    "\n",
    "for r in result.keys():\n",
    "  if result[r] > 0:\n",
    "    print(\"column \" + r + \" \" + str(result[r]) + \" missing values\")\n",
    "\n",
    "X_values = data.values[:50,:-2]\n",
    "\n",
    "print(X_values[1][16])\n",
    "print(type(X_values[1][16]))\n",
    "\n",
    "X_values = data.iloc[:50,:-2]\n",
    "\n",
    "print(X_values['TSH:'][1])\n",
    "print(type(X_values['TSH:'][1]))\n",
    "\n",
    "\n",
    "X_values.drop('TBG:',axis=1,inplace=True)\n",
    "X_values.drop('T3:',axis=1,inplace=True)\n",
    "X_values.drop('sex:',axis=1,inplace=True) # ASSUMINDO QUE O SEXO NÃO É RELEVANTE\n",
    "X_values.drop('referral source:',axis=1,inplace=True) # ASSUMINDO QUE A FONTE DE REFERÊNCIA NÃO É RELEVANTE\n",
    "\n",
    "print(type(X_values['TSH:'][1]))\n",
    "\n",
    "\n",
    "y_value = data.iloc[:50 , -2:-1]\n",
    "y_value = y_value.astype('int')\n",
    "\n",
    "print(X_values)\n",
    "print(type(X_values['TSH:'][1]))"
   ]
  },
  {
   "cell_type": "code",
   "execution_count": null,
   "metadata": {},
   "outputs": [],
   "source": [
    "#TRAIN & TEST SET\n",
    "X_train, X_test, y_train, y_test = train_test_split(X_values, y_value, test_size=0.25,random_state=0)\n",
    "\n",
    "#SCALING\n",
    "scaler = StandardScaler()\n",
    "scaler.fit(X_train)\n",
    "Xt_train=scaler.fit_transform(X_train)\n",
    "Xt_test=scaler.fit_transform(X_test)\n",
    "\n",
    "#IMPUTER\n",
    "imputer = KNNImputer(weights=\"uniform\")\n",
    "imputer.fit(X_train)\n",
    "Xt_train = imputer.transform(X_train)\n",
    "Xt_test = imputer.transform(X_test)\n",
    "\n",
    "#FEATURE SELECTION\n",
    "N,M = Xt_train.shape\n",
    "\n",
    "print(y_train)\n",
    "\n",
    "rfr=RandomForestRegressor(random_state=0)\n",
    "sel = SelectFromModel(estimator=rfr,threshold=0.015)\n",
    "y_train = y_train.squeeze().ravel()\n",
    "y_test = y_test.squeeze().ravel()\n",
    "sel.fit(Xt_train, y_train)\n",
    "\n",
    "print(y_train)\n",
    "\n",
    "print(\"Default threshold: \", sel.threshold_)\n",
    "\n",
    "features=sel.get_support()\n",
    "Features_selected =np.arange(M)[features]\n",
    "\n",
    "print(\"The features selected are columns: \", Features_selected)\n",
    "\n",
    "nX_train=sel.transform(Xt_train)\n",
    "nX_test=sel.transform(Xt_test)\n",
    "\n",
    "score = make_scorer(matthews_corrcoef)\n",
    "\n",
    "def  printClaStatistics(TRUTH_nfold, PREDS_nfold):   \n",
    "    print(\"These are the training set statistics:\")\n",
    "    print(\"The Accuracy is: %7.4f\" % accuracy_score(TRUTH_nfold, PREDS_nfold))\n",
    "    print(\"The Precision is: %7.4f\" % precision_score(TRUTH_nfold, PREDS_nfold, average='weighted'))\n",
    "    print(\"The Recall is: %7.4f\" % recall_score(TRUTH_nfold, PREDS_nfold, average='weighted'))\n",
    "    print(\"The F1 score is: %7.4f\" % f1_score(TRUTH_nfold, PREDS_nfold, average='weighted'))\n",
    "    print(\"The Matthews correlation coefficient is: %7.4f\" % matthews_corrcoef(TRUTH_nfold, PREDS_nfold))\n",
    "    print(pd.DataFrame(confusion_matrix(TRUTH_nfold, PREDS_nfold)))\n",
    "    \n"
   ]
  },
  {
   "cell_type": "code",
   "execution_count": null,
   "metadata": {},
   "outputs": [],
   "source": [
    "clf_rf = RandomForestClassifier(random_state=43)      \n",
    "clr_rf = clf_rf.fit(Xt_train,y_train)\n",
    "\n",
    "clf_rf_4 = RandomForestClassifier()      \n",
    "clr_rf_4 = clf_rf_4.fit(Xt_train,y_train)\n",
    "importances = clr_rf_4.feature_importances_\n",
    "std = np.std([tree.feature_importances_ for tree in clf_rf.estimators_],\n",
    "             axis=0)\n",
    "indices = np.argsort(importances)[::-1]\n",
    " \n",
    "#Print the feature ranking\n",
    "print(\"Feature ranking:\")\n",
    " \n",
    "for f in range(16):\n",
    "    print(\"%d. feature %d (%f)\" % (f + 1, indices[f],  importances[indices[f]]))\n",
    " \n",
    "#Plot the feature importances list:\n",
    "plt.figure(1, figsize=(9,7))\n",
    "plt.title(\"Feature importances\")\n",
    "plt.bar(range(Xt_train.shape[1]), importances[indices],\n",
    "       color=\"g\", yerr=std[indices], align=\"center\")\n",
    "plt.xticks(range(X_values.shape[1]), X_values.columns,rotation=90)\n",
    "plt.xlim([-1, Xt_train.shape[1]])\n",
    "plt.show()"
   ]
  },
  {
   "cell_type": "markdown",
   "metadata": {},
   "source": [
    "# Classification Methods"
   ]
  },
  {
   "cell_type": "markdown",
   "metadata": {},
   "source": [
    "## Decision Tree\n"
   ]
  },
  {
   "cell_type": "code",
   "execution_count": null,
   "metadata": {},
   "outputs": [],
   "source": [
    "from sklearn import tree\n",
    "\n",
    "print(\"base:\")\n",
    "dt = tree.DecisionTreeClassifier()\n",
    "dt.fit(nX_train , y_train)\n",
    "preds = dt.predict(nX_test)\n",
    "printClaStatistics(y_test, preds)\n",
    "\n",
    "print()\n",
    "print(\"best:\")\n",
    "cs = [\"gini\", \"entropy\"]\n",
    "md = [None,*range(3, 30)]\n",
    "msl=[*range(1,15)]\n",
    "mss=[*range(2,15)]\n",
    "param_grid = {\"criterion\": cs, \"max_depth\": md, \"min_samples_leaf\": msl, \"min_samples_split\": mss}\n",
    "gs = GridSearchCV(estimator=dt, param_grid=param_grid, scoring=score)\n",
    "gs.fit(nX_train , y_train)\n",
    "preds=gs.best_estimator_.predict(nX_test)\n",
    "printClaStatistics(y_test, preds)\n",
    "\n",
    "print(\"best criterion : \" ,gs.best_estimator_.criterion)\n",
    "print(\"best max_depth : \" ,gs.best_estimator_.max_depth)\n",
    "print(\"best min_samples_leaf : \" ,gs.best_estimator_.min_samples_leaf)\n",
    "print(\"best min_samples_split : \" ,gs.best_estimator_.min_samples_split)\n"
   ]
  },
  {
   "cell_type": "markdown",
   "metadata": {},
   "source": [
    "## Naive Bayes"
   ]
  },
  {
   "cell_type": "code",
   "execution_count": null,
   "metadata": {},
   "outputs": [],
   "source": [
    "from sklearn.naive_bayes import GaussianNB\n",
    "print(\"base:\")\n",
    "mdl=GaussianNB()\n",
    "mdl.fit(nX_train , y_train)\n",
    "preds = mdl.predict(nX_test)\n",
    "\n",
    "printClaStatistics(y_test, preds)"
   ]
  },
  {
   "cell_type": "markdown",
   "metadata": {},
   "source": [
    "## K-NN"
   ]
  },
  {
   "cell_type": "code",
   "execution_count": null,
   "metadata": {},
   "outputs": [],
   "source": [
    "from sklearn.neighbors import KNeighborsClassifier\n",
    "\n",
    "def gaussian(dsts):\n",
    "    kernel_width = .5\n",
    "    weights = np.exp(-(dsts**2)/kernel_width)\n",
    "    return weights\n",
    "\n",
    "print(\"base:\")\n",
    "knn = KNeighborsClassifier()\n",
    "knn.fit(nX_train , y_train)\n",
    "preds = knn.predict(nX_test)\n",
    "printClaStatistics(y_test, preds)\n",
    "\n",
    "print()\n",
    "print(\"best:\")\n",
    "nn=[3,5,7,9,11]\n",
    "w=[\"distance\",\"uniform\",gaussian]\n",
    "\n",
    "param_grid = {\"n_neighbors\":nn,\"weights\":w}\n",
    "gs = GridSearchCV(estimator=knn, param_grid=param_grid, scoring=score)\n",
    "gs.fit(nX_train , y_train)\n",
    "preds=gs.best_estimator_.predict(nX_test)\n",
    "\n",
    "printClaStatistics(y_test, preds)\n",
    "\n",
    "print(\"best n_neighbors : \" ,gs.best_estimator_.n_neighbors)\n",
    "print(\"best weights : \" ,gs.best_estimator_.weights)\n"
   ]
  },
  {
   "cell_type": "markdown",
   "metadata": {},
   "source": [
    "## SVM"
   ]
  },
  {
   "cell_type": "code",
   "execution_count": null,
   "metadata": {},
   "outputs": [],
   "source": [
    "from sklearn.svm import SVC\n",
    "\n",
    "# Compute the minimum value per feature on training set\n",
    "min_on_training = nX_train.min(axis=0)\n",
    "# Compute the range of each feature (max - min) on  training set\n",
    "range_on_training = (nX_train - min_on_training).max(axis=0)\n",
    "\n",
    "# subtract the min, divide by range\n",
    "# afterward, min=0 and max=1 for each feature\n",
    "X_train_scaled = (nX_train - min_on_training) / range_on_training\n",
    "\n",
    "# use THE SAME transformation on the test set,\n",
    "# using min and range of the training set. See Chapter 3 (unsupervised learning) for details.\n",
    "X_test_scaled = (nX_test - min_on_training) / range_on_training\n",
    "\n",
    "clf = SVC(C = 1, gamma=0.1)\n",
    "svc= clf.fit(X_train_scaled, y_train)\n",
    "preds = svc.predict(X_test_scaled)\n",
    "\n",
    "printClaStatistics(y_test, preds)"
   ]
  },
  {
   "cell_type": "markdown",
   "metadata": {},
   "source": [
    "## Random Forest"
   ]
  },
  {
   "cell_type": "code",
   "execution_count": null,
   "metadata": {},
   "outputs": [],
   "source": [
    "from sklearn.ensemble import RandomForestClassifier\n",
    "\n",
    "rf = RandomForestClassifier(n_estimators=50, random_state=0, max_depth=9,criterion='entropy')\n",
    "rf.fit(nX_train, y_train)\n",
    "preds=rf.predict(nX_test)\n",
    "printClaStatistics(y_test, preds)"
   ]
  },
  {
   "cell_type": "markdown",
   "metadata": {},
   "source": [
    "## AdaBoost"
   ]
  },
  {
   "cell_type": "code",
   "execution_count": null,
   "metadata": {},
   "outputs": [],
   "source": [
    "from sklearn.ensemble import AdaBoostClassifier\n",
    "abc = AdaBoostClassifier(n_estimators=50,random_state=0)\n",
    "abc.fit(nX_train, y_train)\n",
    "preds=abc.predict(nX_test)\n",
    "\n",
    "printClaStatistics(y_test, preds)"
   ]
  },
  {
   "cell_type": "markdown",
   "metadata": {},
   "source": [
    "## Gradient Boosting"
   ]
  },
  {
   "cell_type": "code",
   "execution_count": null,
   "metadata": {},
   "outputs": [],
   "source": [
    "from sklearn.ensemble import GradientBoostingClassifier\n",
    "\n",
    "print(\"base:\")\n",
    "gbc = GradientBoostingClassifier()\n",
    "gbc.fit(nX_train, y_train)\n",
    "preds = gbc.predict(nX_test)\n",
    "printClaStatistics(y_test, preds)\n",
    "\n",
    "print()\n",
    "print(\"best:\")\n",
    "\n",
    "ne = [*range(10,200,10)]\n",
    "lr = [0.1,0.2,0.3,0.4,0.5,0.6,0.7,0.8,0.9,1.0]\n",
    "param_grid = {\"n_estimators\":ne,\"learning_rate\":lr}\n",
    "gs = GridSearchCV(estimator=gbc, param_grid=param_grid, scoring=score)\n",
    "gs.fit(nX_train , y_train)\n",
    "preds=gs.best_estimator_.predict(nX_test)\n",
    "\n",
    "printClaStatistics(y_test, preds)\n",
    "\n",
    "print(\"best n_estimators : \" ,gs.best_estimator_.n_estimators)\n",
    "print(\"best learning_rate : \" ,gs.best_estimator_.learning_rate)"
   ]
  },
  {
   "cell_type": "markdown",
   "metadata": {},
   "source": [
    "## XGBoost"
   ]
  },
  {
   "cell_type": "code",
   "execution_count": null,
   "metadata": {},
   "outputs": [],
   "source": [
    "from xgboost import XGBClassifier\n",
    "print(\"base:\")\n",
    "bst = XGBClassifier()\n",
    "bst.fit(nX_train, y_train)\n",
    "preds = bst.predict(nX_test)\n",
    "printClaStatistics(y_test, preds)"
   ]
  },
  {
   "cell_type": "code",
   "execution_count": null,
   "metadata": {},
   "outputs": [],
   "source": []
  }
 ],
 "metadata": {
  "kernelspec": {
   "display_name": "Python 3 (ipykernel)",
   "language": "python",
   "name": "python3"
  },
  "language_info": {
   "codemirror_mode": {
    "name": "ipython",
    "version": 3
   },
   "file_extension": ".py",
   "mimetype": "text/x-python",
   "name": "python",
   "nbconvert_exporter": "python",
   "pygments_lexer": "ipython3",
   "version": "3.11.5"
  }
 },
 "nbformat": 4,
 "nbformat_minor": 2
}
